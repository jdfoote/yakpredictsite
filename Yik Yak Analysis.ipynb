{
 "cells": [
  {
   "cell_type": "code",
   "execution_count": 2,
   "metadata": {
    "collapsed": false
   },
   "outputs": [],
   "source": [
    "import MySQLdb as mdb\n",
    "\n",
    "# set db connections\n",
    "import ConfigParser\n",
    "cp = ConfigParser.ConfigParser()\n",
    "cp.read(\"./database.cfg\")\n",
    "host = cp.get(\"database\", \"host\")\n",
    "user = cp.get(\"database\", \"user\")\n",
    "password = cp.get(\"database\", \"password\")\n",
    "db = cp.get(\"database\", \"db\")\n",
    "port=int(cp.get(\"database\", \"port\"))\n",
    "\n",
    "con = mdb.connect(host=host, port=port, user=user, passwd=password, db=db)\n"
   ]
  },
  {
   "cell_type": "markdown",
   "metadata": {},
   "source": [
    "Now let's load up some yaks. For now we're loading ~ 500,000, primarily just because I was doing this on my own machine so I thought I'd save a little space. Our total number is on the order of 2 million. Also, these 500,000 are from when the script first started running, before we were collecting historical data and were just updating the score for old yaks each time the script ran rather than storing historical values. The result of this is just that it's much simpler SQL query to get this data and so it finishes faster to do some initial exploration."
   ]
  },
  {
   "cell_type": "code",
   "execution_count": 3,
   "metadata": {
    "collapsed": false
   },
   "outputs": [
    {
     "name": "stdout",
     "output_type": "stream",
     "text": [
      "(500000, 8)\n"
     ]
    }
   ],
   "source": [
    "sql = \"SELECT * FROM yaks WHERE score IS NOT NULL ORDER BY RAND() LIMIT 500000\"\n",
    "import pandas as pd\n",
    "yak_table = pd.read_sql(sql, con=con)\n",
    "print yak_table.shape\n"
   ]
  },
  {
   "cell_type": "code",
   "execution_count": 4,
   "metadata": {
    "collapsed": false
   },
   "outputs": [],
   "source": [
    "yak_table = yak_table[yak_table.score < 10000] # messages from Yik Yak HQ come with this ridiculous score"
   ]
  },
  {
   "cell_type": "markdown",
   "metadata": {},
   "source": [
    "## Descriptive Stats"
   ]
  },
  {
   "cell_type": "markdown",
   "metadata": {},
   "source": [
    "Distribution of votes."
   ]
  },
  {
   "cell_type": "code",
   "execution_count": 4,
   "metadata": {
    "collapsed": false
   },
   "outputs": [
    {
     "data": {
      "text/plain": [
       "count    499999.000000\n",
       "mean         12.138548\n",
       "std          19.058663\n",
       "min          -4.000000\n",
       "25%           2.000000\n",
       "50%           6.000000\n",
       "75%          15.000000\n",
       "max         568.000000\n",
       "dtype: float64"
      ]
     },
     "execution_count": 4,
     "metadata": {},
     "output_type": "execute_result"
    }
   ],
   "source": [
    "yak_table[\"score\"].describe()"
   ]
  },
  {
   "cell_type": "code",
   "execution_count": 5,
   "metadata": {
    "collapsed": false
   },
   "outputs": [
    {
     "data": {
      "image/png": "[encoded data removed]",
      "text/plain": [
       "<matplotlib.figure.Figure at 0x11618b710>"
      ]
     },
     "metadata": {},
     "output_type": "display_data"
    }
   ],
   "source": [
    "%matplotlib inline\n",
    "\n",
    "import matplotlib.pyplot as plt\n",
    "\n",
    "\n",
    "#n, bins, patches = plt.hist(yak_table[\"score\"], bins=15)\n",
    "#plt.cle\n",
    "#bins = sorted(bins + [0])\n",
    "n, bins, patches = plt.hist(yak_table[\"score\"], bins=sorted(range(min(yak_table[\"score\"]), max(yak_table[\"score\"]) + 25, 25) + [0]))\n",
    "plt.title(\"Score Distribution\")\n",
    "plt.xlabel(\"Score\")\n",
    "plt.ylabel(\"Frequency\")\n",
    "plt.show()"
   ]
  },
  {
   "cell_type": "markdown",
   "metadata": {},
   "source": [
    "Describe number of yaks collected in each location. We have 35 schools. Mean number of yaks per school is ~ 14,285."
   ]
  },
  {
   "cell_type": "code",
   "execution_count": 6,
   "metadata": {
    "collapsed": false
   },
   "outputs": [
    {
     "data": {
      "text/plain": [
       "count       35.000000\n",
       "mean     14285.685714\n",
       "std      10733.615404\n",
       "min        627.000000\n",
       "25%       4508.000000\n",
       "50%      12819.000000\n",
       "75%      22527.000000\n",
       "max      38105.000000\n",
       "dtype: float64"
      ]
     },
     "execution_count": 6,
     "metadata": {},
     "output_type": "execute_result"
    }
   ],
   "source": [
    "by_location = yak_table.groupby(yak_table.location_id)\n",
    "by_location.size().describe()"
   ]
  },
  {
   "cell_type": "markdown",
   "metadata": {},
   "source": [
    "## Word Frequencies"
   ]
  },
  {
   "cell_type": "markdown",
   "metadata": {},
   "source": [
    "First treat all yaks as a giant corpus. NLTK assumes that we have an actual corpus made up of sentences. Parsing short texts like this is a difficult thing. So to tokenize, we'll just regex anything that looks like a word. This is just to get a sense of frequently used words across all yaks. Worth looking into research on parsing tweets and if we could use some of those libraries."
   ]
  },
  {
   "cell_type": "code",
   "execution_count": 7,
   "metadata": {
    "collapsed": false
   },
   "outputs": [
    {
     "name": "stdout",
     "output_type": "stream",
     "text": [
      "i: 275376\n",
      "\n",
      "the: 222192\n",
      "\n",
      "to: 197511\n",
      "\n",
      "a: 175191\n",
      "\n",
      "you: 135493\n",
      "\n",
      "and: 122836\n",
      "\n",
      "my: 105638\n",
      "\n",
      "is: 92175\n",
      "\n",
      "in: 91274\n",
      "\n",
      "it: 83169\n",
      "\n",
      "of: 80340\n",
      "\n",
      "t: 71765\n",
      "\n",
      "s: 69781\n",
      "\n",
      "that: 66522\n",
      "\n",
      "on: 66259\n",
      "\n",
      "for: 64503\n",
      "\n",
      "me: 59463\n",
      "\n",
      "just: 51515\n",
      "\n",
      "m: 48138\n",
      "\n",
      "with: 45741\n",
      "\n"
     ]
    }
   ],
   "source": [
    "from nltk.tokenize import RegexpTokenizer\n",
    "import nltk\n",
    "\n",
    "tokenizer = RegexpTokenizer(r'\\w+')\n",
    "corpus = ' '.join(yak_table.message)\n",
    "tokens = tokenizer.tokenize(corpus)\n",
    "text = [t.lower() for t in nltk.Text(tokens)]\n",
    "\n",
    "fdist = nltk.FreqDist(text)\n",
    "for frequencies in fdist.items()[:20]:\n",
    "    print \"%s: %s\\n\" % (frequencies[0], frequencies[1])\n"
   ]
  },
  {
   "cell_type": "markdown",
   "metadata": {},
   "source": [
    "Just removing stop words that come with NLTK..."
   ]
  },
  {
   "cell_type": "code",
   "execution_count": 8,
   "metadata": {
    "collapsed": false
   },
   "outputs": [
    {
     "name": "stdout",
     "output_type": "stream",
     "text": [
      "After we remove words from this list: ['i', 'me', 'my', 'myself', 'we', 'our', 'ours', 'ourselves', 'you', 'your', 'yours', 'yourself', 'yourselves', 'he', 'him', 'his', 'himself', 'she', 'her', 'hers', 'herself', 'it', 'its', 'itself', 'they', 'them', 'their', 'theirs', 'themselves', 'what', 'which', 'who', 'whom', 'this', 'that', 'these', 'those', 'am', 'is', 'are', 'was', 'were', 'be', 'been', 'being', 'have', 'has', 'had', 'having', 'do', 'does', 'did', 'doing', 'a', 'an', 'the', 'and', 'but', 'if', 'or', 'because', 'as', 'until', 'while', 'of', 'at', 'by', 'for', 'with', 'about', 'against', 'between', 'into', 'through', 'during', 'before', 'after', 'above', 'below', 'to', 'from', 'up', 'down', 'in', 'out', 'on', 'off', 'over', 'under', 'again', 'further', 'then', 'once', 'here', 'there', 'when', 'where', 'why', 'how', 'all', 'any', 'both', 'each', 'few', 'more', 'most', 'other', 'some', 'such', 'no', 'nor', 'not', 'only', 'own', 'same', 'so', 'than', 'too', 'very', 's', 't', 'can', 'will', 'just', 'don', 'should', 'now']\n",
      "m: 48138\n",
      "\n",
      "like: 42119\n",
      "\n",
      "get: 32783\n",
      "\n",
      "people: 25059\n",
      "\n",
      "girl: 23985\n",
      "\n",
      "re: 22181\n",
      "\n",
      "want: 21978\n",
      "\n",
      "fuck: 21853\n",
      "\n",
      "go: 20558\n",
      "\n",
      "one: 19938\n",
      "\n",
      "know: 19152\n",
      "\n",
      "time: 18470\n",
      "\n",
      "guy: 16564\n",
      "\n",
      "girls: 16539\n",
      "\n",
      "going: 15059\n",
      "\n",
      "night: 14878\n",
      "\n",
      "really: 14727\n",
      "\n",
      "class: 14585\n",
      "\n",
      "day: 14418\n",
      "\n",
      "love: 13692\n",
      "\n"
     ]
    }
   ],
   "source": [
    "from nltk.corpus import stopwords\n",
    "filtered_words = [w for w in text if not w in stopwords.words('english')]\n",
    "\n",
    "print \"After we remove words from this list: %s\" % stopwords.words('english')\n",
    "\n",
    "fdist = nltk.FreqDist(filtered_words)\n",
    "for frequencies in fdist.items()[:20]:\n",
    "    print \"%s: %s\\n\" % (frequencies[0], frequencies[1])"
   ]
  },
  {
   "cell_type": "markdown",
   "metadata": {},
   "source": [
    "Next steps:\n",
    "1. Probably do this per school. I imagine each school will talk about different things more frequently. Maybe use something like tf-idf where we treat each campus as a yak corpus? What words show up a lot in each school but not at all in other schools?\n",
    "2. Figure out why \"m\" is at the top of this list."
   ]
  },
  {
   "cell_type": "markdown",
   "metadata": {},
   "source": [
    "## Modeling"
   ]
  },
  {
   "cell_type": "markdown",
   "metadata": {},
   "source": [
    "In retrospect, I don't know if this is really all that useful of a thing to do. We basically just bin yaks and train some models based on bag of words models. This is more the type of thing that is useful if we wanted to predict what yaks got downvoted and highly upvoted. Which is maybe a cool thing but not that descriptive. I think I was hoping that if we looked at highly weighted words by the model, there would be some interesting insight about words that are very predictive. That doesn't seem to be the case. But here's what happened."
   ]
  },
  {
   "cell_type": "markdown",
   "metadata": {},
   "source": [
    "First, we're going to bin data we have based on score. The purpose of this is to fit some classification models that predict which bin a yak would fall into. This is maybe tricky based on score distribution. Interesting categories to me are anything that is negative, things that are close to 0, and things that are highly upvoted. There's probably a better scientific way to determine the treshold of what highly upvoted means here. For now, I'm choosing an arbitrary value (20)."
   ]
  },
  {
   "cell_type": "code",
   "execution_count": 9,
   "metadata": {
    "collapsed": false
   },
   "outputs": [
    {
     "name": "stdout",
     "output_type": "stream",
     "text": [
      "41805 negative \n",
      "372539 neutral \n",
      "85655 positive\n"
     ]
    }
   ],
   "source": [
    "negative_yaks =  yak_table[yak_table.score < 0].message\n",
    "neutral_yaks = yak_table[(yak_table.score >= 0) & (yak_table.score <= 20)].message\n",
    "positive_yaks = yak_table[yak_table.score > 20].message\n",
    "\n",
    "print \"%s negative \\n%s neutral \\n%s positive\" % (len(negative_yaks), len(neutral_yaks), len(positive_yaks))\n"
   ]
  },
  {
   "cell_type": "markdown",
   "metadata": {},
   "source": [
    "Now we'll create a matrix. Y = -1, 0, or +1 for each category. X is a binary bag of words vector (words are represented by 0 or 1 by whether or not they appear in a yak.)"
   ]
  },
  {
   "cell_type": "code",
   "execution_count": 24,
   "metadata": {
    "collapsed": false
   },
   "outputs": [],
   "source": [
    "from sklearn.feature_extraction.text import CountVectorizer\n",
    "import numpy as np\n",
    "\n",
    "count_vect = CountVectorizer(binary=True, ngram_range=(1,2))\n",
    "X = count_vect.fit_transform(np.concatenate((negative_yaks, neutral_yaks, positive_yaks)))\n",
    "y = np.array([-1.] * len(negative_yaks) + [0.] * len(neutral_yaks) + [1.] * len(positive_yaks))\n"
   ]
  },
  {
   "cell_type": "markdown",
   "metadata": {},
   "source": [
    "Train a classifier. Cross validation score is just out of curiosity. (Commented out for now because this takes a really long time. IIRC before I tried to rerun everything, this did achieve decent accuracy, but F1 would be a better metric given the imbalanced nature of class labels.)"
   ]
  },
  {
   "cell_type": "code",
   "execution_count": 26,
   "metadata": {
    "collapsed": false
   },
   "outputs": [],
   "source": [
    "#from sklearn.linear_model import LogisticRegression\n",
    "#from sklearn import cross_validation\n",
    "#clf = LogisticRegression()\n",
    "#print 'Average F1=%.3f' % np.average(cross_validation.cross_val_score(clf, X, y, cv=5, scoring='f1'))"
   ]
  },
  {
   "cell_type": "markdown",
   "metadata": {},
   "source": [
    "Now we fit data. For each class, print top features of each. 0=negative, 1=neutral, 2=positive"
   ]
  },
  {
   "cell_type": "code",
   "execution_count": 27,
   "metadata": {
    "collapsed": false
   },
   "outputs": [
    {
     "name": "stdout",
     "output_type": "stream",
     "text": [
      "0: jay,ted,mike,than twice,george,finelli,sam,faith,niggas,nigga,carry,middle,ryan,matt,douglass,tiny,michael,byu students,teddy,alex,clark,page,molly,sunny,bit\n",
      "\n",
      "1: way into,yes on,when hungry,she asks,you lock,first girl,that calc,seizure,probably would,number that,time what,comes the,poly kids,fuck tonight,guy what,push you,take in,some cold,every word,louisville,one not,but fucking,union south,until tomorrow,with beards\n",
      "\n",
      "2: psafe,gustin,hug bottle,leebron,bartlett,babylon,union,mansueto,hatch,peirce,fuck bc,wabash,block plan,mines,depauw,guys me,goal relationship,sosc,rpi,northwestern,prospies,prospie,angie,marx,uchicago\n",
      "\n"
     ]
    }
   ],
   "source": [
    "from sklearn.linear_model import LogisticRegression\n",
    "\n",
    "clf = LogisticRegression(penalty='l2')\n",
    "clf.fit(X, y)  # fit on all data\n",
    "\n",
    "feature_names = np.asarray(count_vect.get_feature_names())\n",
    "\n",
    "for i in range(3):\n",
    "    top25 = np.argsort(clf.coef_[i])[-25:]\n",
    "    print \"%s: %s\\n\" % (i, \",\".join(feature_names[top25]))"
   ]
  },
  {
   "cell_type": "markdown",
   "metadata": {},
   "source": [
    "The machine learning module we're using, `scikit-learn` doesn't do real multinomial logistic regression. It uses a one vs. all hack to predict multiple classes, which is generally fine for prediction purposes but doesn't give us real regression coefficients. We could do the same things we did above but just focus on negative vs. highly upvoted categories..."
   ]
  },
  {
   "cell_type": "code",
   "execution_count": 13,
   "metadata": {
    "collapsed": false
   },
   "outputs": [],
   "source": [
    "from sklearn.feature_extraction.text import CountVectorizer\n",
    "import numpy as np\n",
    "\n",
    "X = count_vect.fit_transform(np.concatenate((negative_yaks, positive_yaks)))\n",
    "y = np.array([0] * len(negative_yaks) + [1.] * len(positive_yaks))\n"
   ]
  },
  {
   "cell_type": "code",
   "execution_count": 15,
   "metadata": {
    "collapsed": false
   },
   "outputs": [
    {
     "name": "stdout",
     "output_type": "stream",
     "text": [
      "Positive words:\n",
      "ucsb=2.131\n",
      "wabash=2.013\n",
      "59=1.928\n",
      "depauw=1.835\n",
      "guys me=1.792\n",
      "union=1.769\n",
      "clemson=1.763\n",
      "rpi=1.751\n",
      "duke=1.750\n",
      "bigelow=1.721\n",
      "cuddling=1.699\n",
      "thanksgiving=1.680\n",
      "fondren=1.660\n",
      "hatch=1.623\n",
      "iv=1.616\n",
      "angie=1.600\n",
      "november=1.599\n",
      "mouse duh=1.596\n",
      "responsibilities=1.586\n",
      "couples=1.584\n",
      "\n",
      "\\Negative words:\n",
      "bit=-3.328\n",
      "page=-2.977\n",
      "sunny=-2.942\n",
      "jack=-2.682\n",
      "middle=-2.671\n",
      "nigga=-2.508\n",
      "kik=-2.482\n",
      "byu students=-2.385\n",
      "alex=-2.262\n",
      "matt=-2.143\n",
      "carry=-2.134\n",
      "michael=-2.122\n",
      "chase=-2.080\n",
      "john=-2.025\n",
      "molly=-2.013\n",
      "suggestions=-2.012\n",
      "taylor=-1.963\n",
      "faith=-1.942\n",
      "tiny=-1.934\n",
      "tom=-1.931\n"
     ]
    }
   ],
   "source": [
    "from sklearn.linear_model import LogisticRegression\n",
    "\n",
    "clf = LogisticRegression(penalty='l2')\n",
    "clf.fit(X, y)  # fit on all data\n",
    "\n",
    "feature_names = np.asarray(count_vect.get_feature_names())\n",
    "\n",
    "top_indices = clf.coef_[0].argsort()[::-1] \n",
    "vocab_r = dict((idx, word) for word, idx in count_vect.vocabulary_.iteritems())\n",
    "print 'Positive words:\\n', '\\n'.join(['%s=%.3f' % (vocab_r[idx], clf.coef_[0][idx]) for idx in top_indices[:20]])\n",
    "top_indices = clf.coef_[0].argsort() # sort in increasing order\n",
    "print '\\n\\Negative words:\\n', '\\n'.join(['%s=%.3f' % (vocab_r[idx], clf.coef_[0][idx]) for idx in top_indices[:20]])"
   ]
  },
  {
   "cell_type": "markdown",
   "metadata": {},
   "source": [
    "...but that feels weird because we're leaving out a ton of data and creating a not all that helpful model since those words could appear in neutral yaks which would effect their score. Out of curiousity, let's do this all again and just have the dependent variable be whether or not a yak has a negative score or not."
   ]
  },
  {
   "cell_type": "code",
   "execution_count": 16,
   "metadata": {
    "collapsed": false
   },
   "outputs": [],
   "source": [
    "from sklearn.feature_extraction.text import CountVectorizer\n",
    "import numpy as np\n",
    "\n",
    "X = count_vect.fit_transform(np.concatenate((negative_yaks, neutral_yaks, positive_yaks)))\n",
    "y = np.array([0] * len(negative_yaks) + [1.] * (len(neutral_yaks) + len(positive_yaks)))\n"
   ]
  },
  {
   "cell_type": "code",
   "execution_count": 17,
   "metadata": {
    "collapsed": false
   },
   "outputs": [
    {
     "name": "stdout",
     "output_type": "stream",
     "text": [
      "Positive words:\n",
      "bigelow=1.569\n",
      "co what=1.522\n",
      "loud ass=1.482\n",
      "mac cheese=1.459\n",
      "noles=1.431\n",
      "louisville=1.369\n",
      "and listen=1.348\n",
      "iv=1.324\n",
      "see yak=1.300\n",
      "zta=1.288\n",
      "mouse duh=1.285\n",
      "aleks=1.271\n",
      "help what=1.253\n",
      "tallahassee=1.242\n",
      "dinosaurs=1.235\n",
      "hey you=1.224\n",
      "stop trying=1.223\n",
      "not interested=1.222\n",
      "dick pic=1.214\n",
      "that point=1.213\n",
      "\n",
      "\\Negative words:\n",
      "bit=-2.746\n",
      "sunny=-2.565\n",
      "molly=-2.532\n",
      "page=-2.406\n",
      "clark=-2.255\n",
      "alex=-2.224\n",
      "teddy=-2.144\n",
      "byu students=-2.140\n",
      "michael=-2.115\n",
      "tiny=-2.082\n",
      "douglass=-2.037\n",
      "matt=-2.008\n",
      "ryan=-2.003\n",
      "middle=-1.996\n",
      "carry=-1.979\n",
      "nigga=-1.969\n",
      "niggas=-1.960\n",
      "faith=-1.934\n",
      "sam=-1.922\n",
      "finelli=-1.913\n"
     ]
    }
   ],
   "source": [
    "from sklearn.linear_model import LogisticRegression\n",
    "\n",
    "clf = LogisticRegression(penalty='l2')\n",
    "clf.fit(X, y)  # fit on all data\n",
    "\n",
    "feature_names = np.asarray(count_vect.get_feature_names())\n",
    "\n",
    "top_indices = clf.coef_[0].argsort()[::-1] \n",
    "vocab_r = dict((idx, word) for word, idx in count_vect.vocabulary_.iteritems())\n",
    "print 'Positive words:\\n', '\\n'.join(['%s=%.3f' % (vocab_r[idx], clf.coef_[0][idx]) for idx in top_indices[:20]])\n",
    "top_indices = clf.coef_[0].argsort() # sort in increasing order\n",
    "print '\\n\\Negative words:\\n', '\\n'.join(['%s=%.3f' % (vocab_r[idx], clf.coef_[0][idx]) for idx in top_indices[:20]])"
   ]
  },
  {
   "cell_type": "markdown",
   "metadata": {},
   "source": [
    "## LIWC"
   ]
  },
  {
   "cell_type": "markdown",
   "metadata": {},
   "source": [
    "This took a little while to get going, but now I think we'll be able to do a lot more experiments with it. Essentially, the scale of our data makes working with LIWC software pretty difficult. We're just using a Python script to read in the dictionary and do some things with that. **NOTE:** LIWC scores I think are typically defined as a fraction. Positive emotion in a document would be the total number of positive emotion words divided by all the words in the document. Our \"documents\" are short enough that I'm not sure this makes sense, so the numbers you see below are just the **total count** of each type of word. So when I say average positive emotion for all yaks is .55, that doesn't mean on average each yak has over half of its words as positive emotion words. It means a lot of yaks don't contain any, dragging the average down to less than one per yak. We could do the typical LIWC approach of fraction of total document if it made sense for a particular experiment."
   ]
  },
  {
   "cell_type": "markdown",
   "metadata": {},
   "source": [
    "As I mentioned, getting up to speed with working with LIWC took some time. For some initial work I just looked at positive/negative emotion in each yak. I spit out the average of these, and then plot each with the score of the yak. These were just some initial ideas to work with the LIWC dictionary, but I think now that it's working it'll be easier to start thinking about much more targeted questions."
   ]
  },
  {
   "cell_type": "code",
   "execution_count": 56,
   "metadata": {
    "collapsed": false
   },
   "outputs": [],
   "source": [
    "import liwc\n",
    "\n",
    "yak_liwc = [] \n",
    "\n",
    "for yak in yak_table.message:\n",
    "    liwc_counts = liwc.countcat(yak, ret='dict')\n",
    "    yak_liwc.append(liwc_counts)\n",
    "    "
   ]
  },
  {
   "cell_type": "code",
   "execution_count": 57,
   "metadata": {
    "collapsed": false
   },
   "outputs": [],
   "source": [
    "yak_table[\"liwc\"] = pd.Series(yak_liwc)"
   ]
  },
  {
   "cell_type": "code",
   "execution_count": 20,
   "metadata": {
    "collapsed": false
   },
   "outputs": [
    {
     "name": "stdout",
     "output_type": "stream",
     "text": [
      "Average positive emotion per yak: 0.54 (SD: 0.82)\n",
      "Average negative emotion per yak: 0.46 (SD: 0.74)\n"
     ]
    }
   ],
   "source": [
    "print \"Average positive emotion per yak: %.2f (SD: %.2f)\" % (np.mean([e[\"pos\"] for e in emotions]), np.std([e[\"pos\"] for e in emotions]))\n",
    "print \"Average negative emotion per yak: %.2f (SD: %.2f)\" % (np.mean([e[\"neg\"] for e in emotions]), np.std([e[\"neg\"] for e in emotions]))"
   ]
  },
  {
   "cell_type": "code",
   "execution_count": 21,
   "metadata": {
    "collapsed": false
   },
   "outputs": [
    {
     "data": {
      "image/png": "[encoded data removed]",
      "text/plain": [
       "<matplotlib.figure.Figure at 0x1451a6e10>"
      ]
     },
     "metadata": {},
     "output_type": "display_data"
    }
   ],
   "source": [
    "x = yak_table.score\n",
    "y = [e[\"pos\"] for e in emotions]\n",
    "p = np.polyfit(x, y, 1)\n",
    "plt.scatter(x, y)\n",
    "plt.plot(x,np.polyval(p,x),'r-')\n",
    "plt.xlabel(\"score\")\n",
    "plt.ylabel(\"positive emotion\")\n",
    "plt.show()"
   ]
  },
  {
   "cell_type": "code",
   "execution_count": 23,
   "metadata": {
    "collapsed": false
   },
   "outputs": [
    {
     "data": {
      "image/png": "[encoded data removed]",
      "text/plain": [
       "<matplotlib.figure.Figure at 0x116200210>"
      ]
     },
     "metadata": {},
     "output_type": "display_data"
    }
   ],
   "source": [
    "x = yak_table.score\n",
    "y = [e[\"neg\"] for e in emotions]\n",
    "p = np.polyfit(x, y, 1)\n",
    "plt.scatter(x, y)\n",
    "plt.plot(x,np.polyval(p,x),'r-')\n",
    "plt.xlabel(\"score\")\n",
    "plt.ylabel(\"negative emotion\")\n",
    "plt.show()"
   ]
  },
  {
   "cell_type": "markdown",
   "metadata": {},
   "source": [
    "## Comparing Groups"
   ]
  },
  {
   "cell_type": "markdown",
   "metadata": {},
   "source": [
    "Here we bin yaks based on score. In this case, we have three categories again. One is anything with a `negative` vote. Then we look 2 standard deviations above the mean score. Anything with a score equal to or above that is `positive`. Everything else is `ordinary`."
   ]
  },
  {
   "cell_type": "code",
   "execution_count": 8,
   "metadata": {
    "collapsed": false
   },
   "outputs": [
    {
     "name": "stdout",
     "output_type": "stream",
     "text": [
      "Mean score: 12.140 (SD: 19.083)\n"
     ]
    }
   ],
   "source": [
    "mean_score = np.mean(yak_table.score)\n",
    "sd_score = np.std(yak_table.score)\n",
    "print \"Mean score: %.3f (SD: %.3f)\" % (mean_score, sd_score)"
   ]
  },
  {
   "cell_type": "code",
   "execution_count": 9,
   "metadata": {
    "collapsed": false
   },
   "outputs": [
    {
     "name": "stdout",
     "output_type": "stream",
     "text": [
      "41872 negative \n",
      "436752 ordinary \n",
      "21375 positive\n"
     ]
    }
   ],
   "source": [
    "positive_threshold = mean_score + 2*sd_score\n",
    "\n",
    "negative_yaks = yak_table[yak_table.score < 0]\n",
    "ordinary_yaks = yak_table[(yak_table.score >= 0) & (yak_table.score < positive_threshold)]\n",
    "positive_yaks = yak_table[yak_table.score >= positive_threshold]\n",
    "\n",
    "print \"%s negative \\n%s ordinary \\n%s positive\" % (len(negative_yaks), len(ordinary_yaks), len(positive_yaks))"
   ]
  },
  {
   "cell_type": "markdown",
   "metadata": {},
   "source": [
    "Below, we look at differences in different categories for each of these categories. First, we just plot number of words. For each of the LIWC categories, we show proportion of yaks in each category that contain any LIWC words for that category."
   ]
  },
  {
   "cell_type": "code",
   "execution_count": 148,
   "metadata": {
    "collapsed": false
   },
   "outputs": [
    {
     "data": {
      "image/png": "[encoded data removed]",
      "text/plain": [
       "<matplotlib.figure.Figure at 0x10eb5d3d0>"
      ]
     },
     "metadata": {},
     "output_type": "display_data"
    }
   ],
   "source": [
    "%matplotlib inline\n",
    "import pylab as plt\n",
    "negative = [l[\"n\"] for l in negative_yaks.liwc]\n",
    "ordinary = [l[\"n\"] for l in ordinary_yaks.liwc if type(l) is not float]\n",
    "positive = [l[\"n\"] for l in positive_yaks.liwc]\n",
    "plt.boxplot([negative, ordinary, positive])\n",
    "plt.show()"
   ]
  },
  {
   "cell_type": "markdown",
   "metadata": {},
   "source": [
    "First person personal pronouns:"
   ]
  },
  {
   "cell_type": "code",
   "execution_count": 142,
   "metadata": {
    "collapsed": false
   },
   "outputs": [
    {
     "name": "stdout",
     "output_type": "stream",
     "text": [
      "Proportion of yaks for each category:\n",
      "Negative: 0.446475133364 \n",
      "Ordinary: 0.487586825826 \n",
      "Positive: 0.491145273585\n"
     ]
    }
   ],
   "source": [
    "from __future__ import division\n",
    "    \n",
    "negative = [l[\"i\"] for l in negative_yaks.liwc]\n",
    "ordinary = [l[\"i\"] for l in ordinary_yaks.liwc if type(l) is not float]\n",
    "positive = [l[\"i\"] for l in positive_yaks.liwc]\n",
    "\n",
    "nn_negative, nn_ordinary, nn_positive = (len([n for n in negative if n != 0]), len([o for o in ordinary if o != 0]), len([p for p in positive if p != 0]))\n",
    "\n",
    "print \"Proportion of yaks for each category:\"\n",
    "print \"Negative: %s \\nOrdinary: %s \\nPositive: %s\" % (nn_negative/len(negative), nn_ordinary/len(ordinary), nn_positive/len(positive))"
   ]
  },
  {
   "cell_type": "markdown",
   "metadata": {},
   "source": [
    "Negative emotion:"
   ]
  },
  {
   "cell_type": "code",
   "execution_count": 143,
   "metadata": {
    "collapsed": false
   },
   "outputs": [
    {
     "name": "stdout",
     "output_type": "stream",
     "text": [
      "Proportion of yaks for each category:\n",
      "Negative: 0.324354711384 \n",
      "Ordinary: 0.347603217993 \n",
      "Positive: 0.361011167702\n"
     ]
    }
   ],
   "source": [
    "from __future__ import division\n",
    "    \n",
    "negative = [l[\"negemo\"] for l in negative_yaks.liwc]\n",
    "ordinary = [l[\"negemo\"] for l in ordinary_yaks.liwc if type(l) is not float]\n",
    "positive = [l[\"negemo\"] for l in positive_yaks.liwc]\n",
    "\n",
    "nn_negative, nn_ordinary, nn_positive = (len([n for n in negative if n != 0]), len([o for o in ordinary if o != 0]), len([p for p in positive if p != 0]))\n",
    "\n",
    "print \"Proportion of yaks for each category:\"\n",
    "print \"Negative: %s \\nOrdinary: %s \\nPositive: %s\" % (nn_negative/len(negative), nn_ordinary/len(ordinary), nn_positive/len(positive))"
   ]
  },
  {
   "cell_type": "markdown",
   "metadata": {},
   "source": [
    "Any personal pronouns:"
   ]
  },
  {
   "cell_type": "code",
   "execution_count": 144,
   "metadata": {
    "collapsed": false
   },
   "outputs": [
    {
     "name": "stdout",
     "output_type": "stream",
     "text": [
      "Proportion of yaks for each category:\n",
      "Negative: 0.629308901275 \n",
      "Ordinary: 0.685856490703 \n",
      "Positive: 0.731227512733\n"
     ]
    }
   ],
   "source": [
    "from __future__ import division\n",
    "    \n",
    "negative = [l[\"ppron\"] for l in negative_yaks.liwc]\n",
    "ordinary = [l[\"ppron\"] for l in ordinary_yaks.liwc if type(l) is not float]\n",
    "positive = [l[\"ppron\"] for l in positive_yaks.liwc]\n",
    "\n",
    "nn_negative, nn_ordinary, nn_positive = (len([n for n in negative if n != 0]), len([o for o in ordinary if o != 0]), len([p for p in positive if p != 0]))\n",
    "\n",
    "print \"Proportion of yaks for each category:\"\n",
    "print \"Negative: %s \\nOrdinary: %s \\nPositive: %s\" % (nn_negative/len(negative), nn_ordinary/len(ordinary), nn_positive/len(positive))"
   ]
  },
  {
   "cell_type": "markdown",
   "metadata": {},
   "source": [
    "Swear words:"
   ]
  },
  {
   "cell_type": "code",
   "execution_count": 127,
   "metadata": {
    "collapsed": false
   },
   "outputs": [
    {
     "name": "stdout",
     "output_type": "stream",
     "text": [
      "Proportion of yaks for each category:\n",
      "Negative: 0.167144838139 \n",
      "Ordinary: 0.16524723325 \n",
      "Positive: 0.15810646459\n"
     ]
    }
   ],
   "source": [
    "from __future__ import division\n",
    "    \n",
    "negative = [l[\"swear\"] for l in negative_yaks.liwc]\n",
    "ordinary = [l[\"swear\"] for l in ordinary_yaks.liwc if type(l) is not float]\n",
    "positive = [l[\"swear\"] for l in positive_yaks.liwc]\n",
    "\n",
    "nn_negative, nn_ordinary, nn_positive = (len([n for n in negative if n != 0]), len([o for o in ordinary if o != 0]), len([p for p in positive if p != 0]))\n",
    "\n",
    "print \"Proportion of yaks for each category:\"\n",
    "print \"Negative: %s \\nOrdinary: %s \\nPositive: %s\" % (nn_negative/len(negative), nn_ordinary/len(ordinary), nn_positive/len(positive))"
   ]
  },
  {
   "cell_type": "markdown",
   "metadata": {},
   "source": [
    "Social processes:"
   ]
  },
  {
   "cell_type": "code",
   "execution_count": 145,
   "metadata": {
    "collapsed": false
   },
   "outputs": [
    {
     "name": "stdout",
     "output_type": "stream",
     "text": [
      "Proportion of yaks for each category:\n",
      "Negative: 0.609429945219 \n",
      "Ordinary: 0.629566798079 \n",
      "Positive: 0.677585159572\n"
     ]
    }
   ],
   "source": [
    "from __future__ import division\n",
    "    \n",
    "negative = [l[\"social\"] for l in negative_yaks.liwc]\n",
    "ordinary = [l[\"social\"] for l in ordinary_yaks.liwc if type(l) is not float]\n",
    "positive = [l[\"social\"] for l in positive_yaks.liwc]\n",
    "\n",
    "nn_negative, nn_ordinary, nn_positive = (len([n for n in negative if n != 0]), len([o for o in ordinary if o != 0]), len([p for p in positive if p != 0]))\n",
    "\n",
    "print \"Proportion of yaks for each category:\"\n",
    "print \"Negative: %s \\nOrdinary: %s \\nPositive: %s\" % (nn_negative/len(negative), nn_ordinary/len(ordinary), nn_positive/len(positive))"
   ]
  },
  {
   "cell_type": "markdown",
   "metadata": {},
   "source": [
    "Affect:"
   ]
  },
  {
   "cell_type": "code",
   "execution_count": 146,
   "metadata": {
    "collapsed": false
   },
   "outputs": [
    {
     "name": "stdout",
     "output_type": "stream",
     "text": [
      "Proportion of yaks for each category:\n",
      "Negative: 0.566873190919 \n",
      "Ordinary: 0.60225873066 \n",
      "Positive: 0.6288491192\n"
     ]
    }
   ],
   "source": [
    "from __future__ import division\n",
    "    \n",
    "negative = [l[\"affect\"] for l in negative_yaks.liwc]\n",
    "ordinary = [l[\"affect\"] for l in ordinary_yaks.liwc if type(l) is not float]\n",
    "positive = [l[\"affect\"] for l in positive_yaks.liwc]\n",
    "\n",
    "nn_negative, nn_ordinary, nn_positive = (len([n for n in negative if n != 0]), len([o for o in ordinary if o != 0]), len([p for p in positive if p != 0]))\n",
    "\n",
    "print \"Proportion of yaks for each category:\"\n",
    "print \"Negative: %s \\nOrdinary: %s \\nPositive: %s\" % (nn_negative/len(negative), nn_ordinary/len(ordinary), nn_positive/len(positive))"
   ]
  },
  {
   "cell_type": "markdown",
   "metadata": {},
   "source": [
    "Cognitive Processes:"
   ]
  },
  {
   "cell_type": "code",
   "execution_count": 147,
   "metadata": {
    "collapsed": false
   },
   "outputs": [
    {
     "name": "stdout",
     "output_type": "stream",
     "text": [
      "Proportion of yaks for each category:\n",
      "Negative: 0.720426763629 \n",
      "Ordinary: 0.766155212755 \n",
      "Positive: 0.807298724359\n"
     ]
    }
   ],
   "source": [
    "from __future__ import division\n",
    "    \n",
    "negative = [l[\"cogmech\"] for l in negative_yaks.liwc]\n",
    "ordinary = [l[\"cogmech\"] for l in ordinary_yaks.liwc if type(l) is not float]\n",
    "positive = [l[\"cogmech\"] for l in positive_yaks.liwc]\n",
    "\n",
    "nn_negative, nn_ordinary, nn_positive = (len([n for n in negative if n != 0]), len([o for o in ordinary if o != 0]), len([p for p in positive if p != 0]))\n",
    "\n",
    "print \"Proportion of yaks for each category:\"\n",
    "print \"Negative: %s \\nOrdinary: %s \\nPositive: %s\" % (nn_negative/len(negative), nn_ordinary/len(ordinary), nn_positive/len(positive))"
   ]
  },
  {
   "cell_type": "markdown",
   "metadata": {},
   "source": [
    "## Regression"
   ]
  },
  {
   "cell_type": "markdown",
   "metadata": {},
   "source": [
    "Some basic models using some LIWC data. First dependent variable is log(score+5).  Independent variables are dicohtomous variables of whether or not a yak contains any LIWC words in the following categories: cognitice process, affect, personal pronoun, swear words. Also included is the number of words in the yak."
   ]
  },
  {
   "cell_type": "code",
   "execution_count": 144,
   "metadata": {
    "collapsed": false
   },
   "outputs": [
    {
     "data": {
      "text/html": [
       "<div style=\"max-height:1000px;max-width:1500px;overflow:auto;\">\n",
       "<table border=\"1\" class=\"dataframe\">\n",
       "  <thead>\n",
       "    <tr style=\"text-align: right;\">\n",
       "      <th></th>\n",
       "      <th>affect</th>\n",
       "      <th>cognitive_process</th>\n",
       "      <th>personal_pronouns</th>\n",
       "      <th>score</th>\n",
       "      <th>swear_words</th>\n",
       "      <th>yak_length</th>\n",
       "    </tr>\n",
       "  </thead>\n",
       "  <tbody>\n",
       "    <tr>\n",
       "      <th>0</th>\n",
       "      <td> 1</td>\n",
       "      <td> 1</td>\n",
       "      <td> 0</td>\n",
       "      <td>  7</td>\n",
       "      <td> 0</td>\n",
       "      <td>  8</td>\n",
       "    </tr>\n",
       "    <tr>\n",
       "      <th>1</th>\n",
       "      <td> 0</td>\n",
       "      <td> 1</td>\n",
       "      <td> 0</td>\n",
       "      <td>  6</td>\n",
       "      <td> 0</td>\n",
       "      <td>  6</td>\n",
       "    </tr>\n",
       "    <tr>\n",
       "      <th>2</th>\n",
       "      <td> 0</td>\n",
       "      <td> 1</td>\n",
       "      <td> 1</td>\n",
       "      <td>  6</td>\n",
       "      <td> 0</td>\n",
       "      <td> 10</td>\n",
       "    </tr>\n",
       "    <tr>\n",
       "      <th>3</th>\n",
       "      <td> 0</td>\n",
       "      <td> 1</td>\n",
       "      <td> 1</td>\n",
       "      <td> 33</td>\n",
       "      <td> 0</td>\n",
       "      <td> 17</td>\n",
       "    </tr>\n",
       "    <tr>\n",
       "      <th>4</th>\n",
       "      <td> 1</td>\n",
       "      <td> 1</td>\n",
       "      <td> 1</td>\n",
       "      <td> 21</td>\n",
       "      <td> 0</td>\n",
       "      <td> 12</td>\n",
       "    </tr>\n",
       "  </tbody>\n",
       "</table>\n",
       "</div>"
      ],
      "text/plain": [
       "   affect  cognitive_process  personal_pronouns  score  swear_words  yak_length\n",
       "0       1                  1                  0      7            0           8\n",
       "1       0                  1                  0      6            0           6\n",
       "2       0                  1                  1      6            0          10\n",
       "3       0                  1                  1     33            0          17\n",
       "4       1                  1                  1     21            0          12"
      ]
     },
     "execution_count": 144,
     "metadata": {},
     "output_type": "execute_result"
    }
   ],
   "source": [
    "Y = np.log(yak_table.score + 5)\n",
    "\n",
    "# binarize liwc scores. 1 if the category is present at all, else 0\n",
    "cognitive = pd.Series([1 if y else 0 for y in [l[\"cogmech\"] for l in yak_table.liwc if type(l) is not float]])\n",
    "affect = pd.Series([1 if y else 0 for y in [l[\"affect\"] for l in yak_table.liwc if type(l) is not float]])\n",
    "personal_pronouns = pd.Series([1 if y else 0 for y in [l[\"ppron\"] for l in yak_table.liwc if type(l) is not float]])\n",
    "swear_words = pd.Series([1 if y else 0 for y in [l[\"swear\"] for l in yak_table.liwc if type(l) is not float]])\n",
    "\n",
    "yak_length = pd.Series([l[\"n\"] for l in yak_table.liwc if type(l) is not float])\n",
    "\n",
    "regression_df = pd.DataFrame({\"score\": Y,\n",
    "                              \"cognitive_process\": cognitive,\n",
    "                              \"affect\": affect,\n",
    "                              \"personal_pronouns\": personal_pronouns,\n",
    "                              \"swear_words\": swear_words,\n",
    "                              \"yak_length\": yak_length})\n",
    "regression_df.head()\n",
    "\n"
   ]
  },
  {
   "cell_type": "code",
   "execution_count": 141,
   "metadata": {
    "collapsed": false
   },
   "outputs": [
    {
     "name": "stdout",
     "output_type": "stream",
     "text": [
      "                            OLS Regression Results                            \n",
      "==============================================================================\n",
      "Dep. Variable:                  score   R-squared:                       0.015\n",
      "Model:                            OLS   Adj. R-squared:                  0.015\n",
      "Method:                 Least Squares   F-statistic:                     1475.\n",
      "Date:                Mon, 23 Feb 2015   Prob (F-statistic):               0.00\n",
      "Time:                        15:41:45   Log-Likelihood:            -6.1499e+05\n",
      "No. Observations:              499997   AIC:                         1.230e+06\n",
      "Df Residuals:                  499991   BIC:                         1.230e+06\n",
      "Df Model:                           5                                         \n",
      "===============================================================================================\n",
      "                                  coef    std err          t      P>|t|      [95.0% Conf. Int.]\n",
      "-----------------------------------------------------------------------------------------------\n",
      "Intercept                       2.2729      0.003    782.734      0.000         2.267     2.279\n",
      "C(affect)[T.1.0]                0.0212      0.003      8.089      0.000         0.016     0.026\n",
      "C(cognitive_process)[T.1.0]     0.0323      0.003     10.272      0.000         0.026     0.038\n",
      "C(personal_pronouns)[T.1.0]     0.0483      0.003     16.849      0.000         0.043     0.054\n",
      "C(swear_words)[T.1.0]          -0.0381      0.003    -11.519      0.000        -0.045    -0.032\n",
      "yak_length                      0.0098      0.000     53.131      0.000         0.009     0.010\n",
      "==============================================================================\n",
      "Omnibus:                     5906.860   Durbin-Watson:                   1.996\n",
      "Prob(Omnibus):                  0.000   Jarque-Bera (JB):             8669.896\n",
      "Skew:                           0.139   Prob(JB):                         0.00\n",
      "Kurtosis:                       3.582   Cond. No.                         49.7\n",
      "==============================================================================\n"
     ]
    }
   ],
   "source": [
    "import statsmodels.formula.api as st\n",
    "\n",
    "model = st.ols(formula = \"score ~ C(affect) + C(cognitive_process) + C(personal_pronouns) + C(swear_words) + yak_length\",\n",
    "               data=regression_df)\n",
    "\n",
    "model_fit = model.fit()\n",
    "\n",
    "print model_fit.summary()"
   ]
  },
  {
   "cell_type": "code",
   "execution_count": 142,
   "metadata": {
    "collapsed": false
   },
   "outputs": [
    {
     "name": "stdout",
     "output_type": "stream",
     "text": [
      "Intercept                      2.272908\n",
      "C(affect)[T.1.0]               0.021227\n",
      "C(cognitive_process)[T.1.0]    0.032309\n",
      "C(personal_pronouns)[T.1.0]    0.048330\n",
      "C(swear_words)[T.1.0]         -0.038102\n",
      "yak_length                     0.009838\n",
      "dtype: float64\n"
     ]
    }
   ],
   "source": [
    "print model_fit.params"
   ]
  },
  {
   "cell_type": "markdown",
   "metadata": {},
   "source": [
    "Multinomial logit model where the dependent variable is just the categories defined above (negative, ordinary, positive.) Same independent variables."
   ]
  },
  {
   "cell_type": "code",
   "execution_count": 145,
   "metadata": {
    "collapsed": false
   },
   "outputs": [
    {
     "name": "stdout",
     "output_type": "stream",
     "text": [
      "Optimization terminated successfully.\n",
      "         Current function value: 0.286052\n",
      "         Iterations 7\n",
      "                          MNLogit Regression Results                          \n",
      "==============================================================================\n",
      "Dep. Variable:                  score   No. Observations:               499997\n",
      "Model:                        MNLogit   Df Residuals:                   499991\n",
      "Method:                           MLE   Df Model:                            5\n",
      "Date:                Mon, 23 Feb 2015   Pseudo R-squ.:                0.005385\n",
      "Time:                        16:03:19   Log-Likelihood:            -1.4303e+05\n",
      "converged:                       True   LL-Null:                   -1.4380e+05\n",
      "                                        LLR p-value:                     0.000\n",
      "===============================================================================================\n",
      "                    score=1       coef    std err          z      P>|z|      [95.0% Conf. Int.]\n",
      "-----------------------------------------------------------------------------------------------\n",
      "Intercept                       1.9844      0.012    169.594      0.000         1.961     2.007\n",
      "C(affect)[T.1.0]                0.0933      0.011      8.184      0.000         0.071     0.116\n",
      "C(cognitive_process)[T.1.0]     0.1307      0.013      9.985      0.000         0.105     0.156\n",
      "C(personal_pronouns)[T.1.0]     0.1382      0.012     11.356      0.000         0.114     0.162\n",
      "C(swear_words)[T.1.0]          -0.0987      0.014     -6.817      0.000        -0.127    -0.070\n",
      "yak_length                      0.0140      0.001     16.151      0.000         0.012     0.016\n",
      "===============================================================================================\n"
     ]
    }
   ],
   "source": [
    "import statsmodels.api as st\n",
    "\n",
    "regression_df.score[regression_df.score >= positive_threshold] = 1\n",
    "regression_df.score[(regression_df.score >= 0) & (regression_df.score < positive_threshold)] = 1\n",
    "regression_df.score[regression_df.score < 0] = -1\n",
    "\n",
    "model = st.MNLogit.from_formula(\"score ~ C(affect) + C(cognitive_process) + C(personal_pronouns) + C(swear_words) + yak_length\",\n",
    "               data=regression_df)\n",
    "\n",
    "model_fit = model.fit()\n",
    "\n",
    "print model_fit.summary()"
   ]
  },
  {
   "cell_type": "markdown",
   "metadata": {},
   "source": [
    "## Comparing Campuses"
   ]
  },
  {
   "cell_type": "markdown",
   "metadata": {},
   "source": [
    "### TD-IDF"
   ]
  },
  {
   "cell_type": "markdown",
   "metadata": {},
   "source": [
    "First, we're just going to treat each campus as a corpus. Then we compute tf-idf for each word, and list the highly ranked words for each campus. TF-IDF should give us words that are important (well, frequent) within a corpus (campus), but that don't appear across all campuses. So, my intuition is that it will give us words that are specific and important to each school, which could be interesting. Note we ignore words that occur with great frequency within a document (TfidfVectorizer `max_df` set to 0.7). This is sort of a per document stopword removal that let's us see more interesting words (for example, the word \"like\" might appear a lot, but it's not as interesting as seeing words like \"Evanston\" for Northwestern, which might be technically less frequent but more semantically interesting)."
   ]
  },
  {
   "cell_type": "code",
   "execution_count": 10,
   "metadata": {
    "collapsed": false
   },
   "outputs": [],
   "source": [
    "grouped_by_campus = yak_table.groupby(yak_table.location_id).message\n",
    "\n",
    "corpuses = [] # we'll store them here\n",
    "\n",
    "for group, values in grouped_by_campus:\n",
    "    corpuses.append(\" \".join(values))\n",
    "    "
   ]
  },
  {
   "cell_type": "code",
   "execution_count": 11,
   "metadata": {
    "collapsed": false
   },
   "outputs": [],
   "source": [
    "from sklearn.feature_extraction.text import TfidfVectorizer\n",
    "from nltk.corpus import stopwords\n",
    "\n",
    "vectorizer = TfidfVectorizer(min_df=1, stop_words=stopwords.words(\"english\"), ngram_range=(1,2), max_df=0.7)\n",
    "tfidf_matrix = vectorizer.fit_transform(corpuses).todense()\n"
   ]
  },
  {
   "cell_type": "code",
   "execution_count": 12,
   "metadata": {
    "collapsed": false
   },
   "outputs": [],
   "source": [
    "feature_names = np.asarray(vectorizer.get_feature_names())\n",
    "\n",
    "# let's also get location names out of the database to make\n",
    "# this more interpretable.\n",
    "sql = \"SELECT * FROM locations\"\n",
    "location_table = pd.read_sql(sql, con=con)\n",
    "locations = location_table.name.tolist()\n"
   ]
  },
  {
   "cell_type": "code",
   "execution_count": 13,
   "metadata": {
    "collapsed": false
   },
   "outputs": [
    {
     "name": "stdout",
     "output_type": "stream",
     "text": [
      "syracuse: euclid,comstock,duke,general body,esf,sadler,lawrinson,kent,cuse,syracuse\n",
      "\n",
      "brown: city burger,renny,prov,blum,gaebe,xavier,mcnulty,providence,snowden,jwu\n",
      "\n",
      "nyu: silberberg,palladium,stevens,pace,bmcc,baruch,nyc,bobst,halpin,nyu\n",
      "\n",
      "rutgers: ep,sig ep,orgo,expos,ru,lx,college ave,brower,livi,rutgers\n",
      "\n",
      "kenyon: mcbride,cove,nite,asian beetles,kac,kenyon football,daltronix,nite bites,peirce,kenyon\n",
      "\n",
      "colorado: loomis,tutt,block plan,block break,udall,mathias,bemis,worner,rastall,cc\n",
      "\n",
      "mines: elm,3rb,deutsch,deutsch deutsch,ctlm,cu,epics,slate,seger,mines\n",
      "\n",
      "trinity: tolteca,belgrove,dublin bus,ucd,tesco,irish,blackhall,centra,ireland,dublin\n",
      "\n",
      "alabama: tuscaloosa,paty,ua,roll tide,tide,fall break,lofts,lakeside,auburn,lsu\n",
      "\n",
      "haverford: roman candle,haverford college,lm,bryn,bryn mawr,mawr,weird weird,gal,haverford,gal gal\n",
      "\n",
      "ucsb: bigelow,birnir,poly,cal,dlg,dp,cal poly,towners,iv,ucsb\n",
      "\n",
      "lafeyette: finelli,ruef,aphi,skillman,flags,laf,lehigh,aphihorsestuff,lafayette,spring concert\n",
      "\n",
      "rensselaer: dcc,union hockey,degree union,troy,commons,rse,union sucks,tfw,union,rpi\n",
      "\n",
      "georgetown: convention,leo,jea,gworld,vex,thurston,lau,georgetown,gelman,gw\n",
      "\n",
      "harvard: dining hall,comm ave,tufts,bc kids,cambridge,allston,degree bc,mit,boston,bu\n",
      "\n",
      "worcester: woo state,des,poon,wsu,assumption,becker,assco,daka,worcester,wpi\n",
      "\n",
      "wisconsin: badger,uwmadison_snaps,wisconsin,madison,bascom,snaps,badgers,freakfest,uw snaps,uw\n",
      "\n",
      "fsu: famu homecoming,skrillex,noles,tally,landis,tallahassee,uf,famu,stroz,fsu\n",
      "\n",
      "miami: fuck fsu,pt6,dining hall,mahoney,grove,iron arrow,hecht,pearson,miami,fsu\n",
      "\n",
      "chicago: vincente,pset,marx,bar night,mansueto,sosc,bartlett,harper,reg,uchicago\n",
      "\n",
      "miamioxford: cleveland,brick,threat,hughes,bomb threat,ou,oxford,pulley,armstrong,miami\n",
      "\n",
      "depauw: humbert,psi,delt,phi psi,du,kimmel,monon,ato,depauw,wabash\n",
      "\n",
      "cornell: go cornell,chequerd,uris,arts quad,ic,tcat,prelims,ithaca,prelim,cornell\n",
      "\n",
      "newhampshire: berube,mub,gables,lodges,stillings,stoke,philly,wildcats,hoco,unh\n",
      "\n",
      "northwestern: go cats,schatz,michigan,eberhard,spac,bobb,evanston,hatch,nu,northwestern\n",
      "\n",
      "lewisclarke: pio log,trail room,fall ball,green backpack,backpack kid,copeland,watzek,pio,bon,lc\n",
      "\n",
      "wakeforest: forest,mountain weekend,ka,bow bow,zsr,clemson,wake forest,chalk,go deacs,deacs\n",
      "\n",
      "byu: center street,testing center,utah,testimony,ncmo,mormon,uvu,byu students,provo,byu\n",
      "\n",
      "indiana: iu secure,max hoetzel,ato,wells,hoetzel,iubb,ballantine,purdue,bloomington,iu\n",
      "\n",
      "rice: reli,rpc,dingle,fondy,haunted dingle,box drill,baker,servery,fondren,baker 13\n",
      "\n",
      "pennstate: ficken,cata,canning,hotpsugirls,campus story,maryland,dsig,psu,penn,penn state\n",
      "\n",
      "ohiostate: thompson,illinois,ohio,mirror lake,sel,michigan,carmen,oval,msu,osu\n",
      "\n",
      "northeastern: mass art,neu,snell,green line,wentworth,massart,northeastern,bc kids,boston,bu\n",
      "\n",
      "texasam: cstat,msc,blinn,college station,ags,aggies,evans,aggie,northgate,wbc\n",
      "\n",
      "pepperdine: payson,dps,ccb,stunt,convo,caf,hawc,babylon,ato,pepperdine\n",
      "\n"
     ]
    }
   ],
   "source": [
    "all_top_words = []\n",
    "\n",
    "# now print top words\n",
    "for i in range(len(tfidf_matrix)):\n",
    "    index = np.argsort(tfidf_matrix[i])\n",
    "    top10 = index.tolist()[0][-10:]\n",
    "    top_words = feature_names[top10]\n",
    "    all_top_words.extend(top_words)\n",
    "    print \"%s: %s\\n\" % (locations[i], \",\".join(top_words))"
   ]
  },
  {
   "cell_type": "markdown",
   "metadata": {},
   "source": [
    "So, we see a lot of the things I guess we would expect to see. School and city names. Rivals. And maybe some other interesting things. \"Honor code,\" for example, is a top BYU feature. Let's look at how yaks that mention these are voted on. We'll use the same negative, ordinary, and positive groups as before, and just go through and count how many contain any of these words. (What we'd really want to do is check the location of each yak and then check it against the appropriate list, but this can give us a general idea.)"
   ]
  },
  {
   "cell_type": "code",
   "execution_count": 127,
   "metadata": {
    "collapsed": false
   },
   "outputs": [
    {
     "name": "stdout",
     "output_type": "stream",
     "text": [
      "Proportion of negative yaks that contain at least one phrase:  0.023\n",
      "Proportion of ordinary yaks that contain at least one phrase:  0.020\n",
      "Proportion of positive yaks that contain at least one phrase:  0.025\n"
     ]
    }
   ],
   "source": [
    "from __future__ import division\n",
    "\n",
    "def intersect(a, b):\n",
    "     return list(set(a) & set(b))\n",
    "\n",
    "negative = [yak for yak in negative_yaks.message if intersect(yak.split(), all_top_words)]\n",
    "print \"Proportion of negative yaks that contain at least one phrase: % .3f\" % (len(negative)/len(negative_yaks))\n",
    "\n",
    "                                                                      \n",
    "ordinary = [yak for yak in ordinary_yaks.message if intersect(yak.split(), all_top_words)]\n",
    "print \"Proportion of ordinary yaks that contain at least one phrase: % .3f\" % (len(ordinary)/len(ordinary_yaks))\n",
    "                                                                      \n",
    "positive = [yak for yak in positive_yaks.message if intersect(yak.split(), all_top_words)]\n",
    "print \"Proportion of positive yaks that contain at least one phrase: % .3f\" % (len(positive)/len(positive_yaks))\n"
   ]
  },
  {
   "cell_type": "markdown",
   "metadata": {},
   "source": [
    "Let's check out a few examples."
   ]
  },
  {
   "cell_type": "code",
   "execution_count": 130,
   "metadata": {
    "collapsed": false
   },
   "outputs": [
    {
     "name": "stdout",
     "output_type": "stream",
     "text": [
      "Negative examples:\n",
      "Boutta faint in bobst \n",
      "Someone from sig ep speak up. Did someone die?\n",
      "All-girls at brick Street *fighting the inner urge to become a stripper*\n",
      "\n",
      "\n",
      "\n",
      "Ordinary examples:\n",
      "What channel can i watch the cuse football game on?\n",
      "Whoever the dab guy is on uw snaps hmu \n",
      "From Cortland for the night.. Let's go ithaca \n",
      "\n",
      "\n",
      "\n",
      "Positive examples:\n",
      "I'm kinda homesick... Not because I actually miss home, but because I don't have to go to school of mines at home. \n",
      "White girls please don't stop having sex with me because of the chalk \n",
      "Friday is college night, Halloween, and baker 13. If I'm still alive saturday morning that means I did something wrong \n",
      "\n",
      "\n",
      "\n"
     ]
    }
   ],
   "source": [
    "print \"Negative examples:\"\n",
    "print \"\\n\".join(negative[:3])\n",
    "print \"\\n\\n\"\n",
    "\n",
    "print \"Ordinary examples:\"\n",
    "print \"\\n\".join(ordinary[:3])\n",
    "print \"\\n\\n\"\n",
    "\n",
    "print \"Positive examples:\"\n",
    "print \"\\n\".join(positive[:3])\n",
    "print \"\\n\\n\""
   ]
  },
  {
   "cell_type": "markdown",
   "metadata": {},
   "source": [
    "I guess my thinking here was that maybe yaks that mentioned these things would be upvoted more, and that might say something about the importance of location/audience. We're also working on manually compiling short lists of possibly relevant words for each campus, just things like the city name, mascot, etc. But this method gives us another programmatic way to identify such terms."
   ]
  },
  {
   "cell_type": "markdown",
   "metadata": {},
   "source": [
    "### Document Similarity"
   ]
  },
  {
   "cell_type": "markdown",
   "metadata": {},
   "source": [
    "Alright, my inability to think about matrix math is keeping me from really doing this currently, but here was the idea:\n",
    "\n",
    "For each campus, treat each individual yak as a document. Compute cosine similarity for all pairs of yaks. Then get some sort of average for those, so that for each campus I'd have some sort of overall document similarity score. The last bit is what I'm unsure of. What I end up with below is a matrix, where each row represents a yak, and each column represents the cosine similarity of that yak and another. I'm calling `mean` on that matrix, which I think just flattens the matrix and computes a mean, but I don't think that is right...\n",
    "\n",
    "This would probably be messy, and maybe not make that much sense given a bunch of small documents (yaks). Whereas before I was treating all yaks from a given campus as a document, this time I'll be treating each yak as a document. Then, for each campus, I'll compute the average cosine similarity of all yaks. This is a way to measure document similarity used a lot in information retrieval. I think what I'd maybe like to do is something more similar to Adamic and Glance's political blogs paper, where they're not doing cosine similarity of entire documents but rather just features of those documents (URL's or phrases). But I'm not sure what the features we'd want to compare are.\n",
    "\n",
    "My idea in doing this is something along the lines of, I imagine yaks within a location share lexical similarity, because of the types of words we identified above. I guess it probably makes sense that all yaks from Northwestern are more similar than comparing yaks from Northwestern and Penn State. I don't really know if trying to quantify that means anything or gives us anything. It seemed like something to do after thinking about TF-IDF, since we usually use those vectors in thinking about document similarity. This is all stemming from an intuition that location matters on Yik Yak, and that people within a location all adopt some of the same norms. This is something I'll keep thinking about."
   ]
  },
  {
   "cell_type": "code",
   "execution_count": 134,
   "metadata": {
    "collapsed": false
   },
   "outputs": [
    {
     "name": "stdout",
     "output_type": "stream",
     "text": [
      "0.0018918303673\n",
      "0.00213104528961\n",
      "0.00185340518678\n",
      "0.00187596649421\n",
      "0.00317351057312\n",
      "0.00241111210601\n",
      "0.00228728629985\n",
      "0.00445205857963\n",
      "0.0018353055177\n",
      "0.00301271432193\n",
      "0.00188125847556\n",
      "0.00250789820611\n",
      "0.00235752083691\n",
      "0.0018464486298\n",
      "0.00214642621651\n",
      "0.00214962291295\n",
      "0.00189835584697\n",
      "0.00185517757663\n",
      "0.0020501411532\n",
      "0.00226024843669\n",
      "0.00185466256195\n",
      "0.00267780945792\n",
      "0.00199630434128\n",
      "0.00198547665976\n",
      "0.00207531572034\n",
      "0.00247899238759\n",
      "0.00233105248217\n",
      "0.00218382274944\n",
      "0.00194983676549\n",
      "0.00213993572246\n",
      "0.00183217795484\n",
      "0.00189629290914\n",
      "0.00196584412655\n",
      "0.00187158913694\n",
      "0.00268810627935\n"
     ]
    }
   ],
   "source": [
    "# note, we'll use the same TfidfVectorizer as in the last section\n",
    "\n",
    "for group, yaks in grouped_by_campus:\n",
    "    tfidf = vectorizer.fit_transform(yaks)\n",
    "    similarity_matrix = (tfidf * tfidf.T).A\n",
    "    print similarity_matrix.mean()\n",
    "    "
   ]
  },
  {
   "cell_type": "code",
   "execution_count": 104,
   "metadata": {
    "collapsed": false
   },
   "outputs": [
    {
     "data": {
      "text/html": [
       "<div style=\"max-height:1000px;max-width:1500px;overflow:auto;\">\n",
       "<table border=\"1\" class=\"dataframe\">\n",
       "  <thead>\n",
       "    <tr style=\"text-align: right;\">\n",
       "      <th></th>\n",
       "      <th>affect</th>\n",
       "      <th>cognitive_process</th>\n",
       "      <th>contains_top_word</th>\n",
       "      <th>personal_pronouns</th>\n",
       "      <th>score</th>\n",
       "      <th>swear_words</th>\n",
       "      <th>yak_length</th>\n",
       "    </tr>\n",
       "  </thead>\n",
       "  <tbody>\n",
       "    <tr>\n",
       "      <th>7474</th>\n",
       "      <td> 1</td>\n",
       "      <td> 1</td>\n",
       "      <td> 0</td>\n",
       "      <td> 0</td>\n",
       "      <td> 12</td>\n",
       "      <td> 1</td>\n",
       "      <td> 10</td>\n",
       "    </tr>\n",
       "    <tr>\n",
       "      <th>7475</th>\n",
       "      <td> 1</td>\n",
       "      <td> 1</td>\n",
       "      <td> 0</td>\n",
       "      <td> 1</td>\n",
       "      <td> 28</td>\n",
       "      <td> 0</td>\n",
       "      <td> 25</td>\n",
       "    </tr>\n",
       "    <tr>\n",
       "      <th>7476</th>\n",
       "      <td> 1</td>\n",
       "      <td> 1</td>\n",
       "      <td> 0</td>\n",
       "      <td> 1</td>\n",
       "      <td> 48</td>\n",
       "      <td> 1</td>\n",
       "      <td> 21</td>\n",
       "    </tr>\n",
       "    <tr>\n",
       "      <th>7477</th>\n",
       "      <td> 1</td>\n",
       "      <td> 0</td>\n",
       "      <td> 0</td>\n",
       "      <td> 0</td>\n",
       "      <td>  4</td>\n",
       "      <td> 1</td>\n",
       "      <td>  4</td>\n",
       "    </tr>\n",
       "    <tr>\n",
       "      <th>7478</th>\n",
       "      <td> 0</td>\n",
       "      <td> 1</td>\n",
       "      <td> 0</td>\n",
       "      <td> 1</td>\n",
       "      <td>  4</td>\n",
       "      <td> 0</td>\n",
       "      <td> 13</td>\n",
       "    </tr>\n",
       "  </tbody>\n",
       "</table>\n",
       "</div>"
      ],
      "text/plain": [
       "      affect  cognitive_process  contains_top_word  personal_pronouns  score  \\\n",
       "7474       1                  1                  0                  0     12   \n",
       "7475       1                  1                  0                  1     28   \n",
       "7476       1                  1                  0                  1     48   \n",
       "7477       1                  0                  0                  0      4   \n",
       "7478       0                  1                  0                  1      4   \n",
       "\n",
       "      swear_words  yak_length  \n",
       "7474            1          10  \n",
       "7475            0          25  \n",
       "7476            1          21  \n",
       "7477            1           4  \n",
       "7478            0          13  "
      ]
     },
     "execution_count": 104,
     "metadata": {},
     "output_type": "execute_result"
    }
   ],
   "source": [
    "only_northwestern = pd.DataFrame(yak_table.query(\"location_id == 26\").copy())\n",
    "\n",
    "scores = pd.Series([score for score in only_northwestern[\"score\"]])\n",
    "#Y = np.log(scores + 5)\n",
    "Y = scores\n",
    "\n",
    "def intersect(a, b):\n",
    "     return list(set(a) & set(b))\n",
    "\n",
    "# binarize liwc scores. 1 if the category is present at all, else 0\n",
    "cognitive = pd.Series([1 if y else 0 for y in [l[\"cogmech\"] for l in only_northwestern.liwc]])\n",
    "affect = pd.Series([1 if y else 0 for y in [l[\"affect\"] for l in only_northwestern.liwc]])\n",
    "personal_pronouns = pd.Series([1 if y else 0 for y in [l[\"ppron\"] for l in only_northwestern.liwc]])\n",
    "swear_words = pd.Series([1 if y else 0 for y in [l[\"swear\"] for l in only_northwestern.liwc]])\n",
    "\n",
    "# does it contain one of our campus specific top words?\n",
    "contains_top_word = pd.Series([1 if y else 0 for y in [intersect(yak.split(), all_top_words) for yak in only_northwestern.message]])\n",
    "\n",
    "yak_length = pd.Series([l[\"n\"] for l in only_northwestern.liwc])\n",
    "\n",
    "regression_df = pd.DataFrame({\"score\": Y,\n",
    "                              \"cognitive_process\": cognitive,\n",
    "                              \"affect\": affect,\n",
    "                              \"personal_pronouns\": personal_pronouns,\n",
    "                              \"swear_words\": swear_words,\n",
    "                              \"contains_top_word\": contains_top_word,\n",
    "                              \"yak_length\": yak_length})\n",
    "\n",
    "\n",
    "regression_df.tail()\n"
   ]
  },
  {
   "cell_type": "code",
   "execution_count": 105,
   "metadata": {
    "collapsed": false
   },
   "outputs": [
    {
     "name": "stdout",
     "output_type": "stream",
     "text": [
      "                            OLS Regression Results                            \n",
      "==============================================================================\n",
      "Dep. Variable:                  score   R-squared:                       0.029\n",
      "Model:                            OLS   Adj. R-squared:                  0.029\n",
      "Method:                 Least Squares   F-statistic:                     37.82\n",
      "Date:                Thu, 02 Apr 2015   Prob (F-statistic):           1.76e-45\n",
      "Time:                        12:21:45   Log-Likelihood:                -37074.\n",
      "No. Observations:                7479   AIC:                         7.416e+04\n",
      "Df Residuals:                    7472   BIC:                         7.421e+04\n",
      "Df Model:                           6                                         \n",
      "Covariance Type:            nonrobust                                         \n",
      "=============================================================================================\n",
      "                                coef    std err          t      P>|t|      [95.0% Conf. Int.]\n",
      "---------------------------------------------------------------------------------------------\n",
      "Intercept                    16.8480      0.995     16.929      0.000        14.897    18.799\n",
      "C(affect)[T.1]               -0.4343      0.887     -0.490      0.624        -2.173     1.304\n",
      "C(cognitive_process)[T.1]    -0.1791      1.085     -0.165      0.869        -2.306     1.948\n",
      "C(personal_pronouns)[T.1]     3.6088      0.971      3.718      0.000         1.706     5.512\n",
      "C(swear_words)[T.1]          -1.8263      1.162     -1.572      0.116        -4.104     0.451\n",
      "C(contains_top_word)[T.1]     1.6174      3.433      0.471      0.638        -5.112     8.347\n",
      "yak_length                    0.6509      0.063     10.320      0.000         0.527     0.775\n",
      "==============================================================================\n",
      "Omnibus:                     4633.116   Durbin-Watson:                   1.992\n",
      "Prob(Omnibus):                  0.000   Jarque-Bera (JB):            60748.869\n",
      "Skew:                           2.782   Prob(JB):                         0.00\n",
      "Kurtosis:                      15.806   Cond. No.                         140.\n",
      "==============================================================================\n",
      "\n",
      "Warnings:\n",
      "[1] Standard Errors assume that the covariance matrix of the errors is correctly specified.\n"
     ]
    }
   ],
   "source": [
    "import statsmodels.formula.api as st\n",
    "\n",
    "model = st.ols(formula = \"score ~ C(affect) + C(cognitive_process) + C(personal_pronouns) + C(swear_words) + C(contains_top_word) + yak_length\",\n",
    "               data=regression_df)\n",
    "\n",
    "model_fit = model.fit()\n",
    "\n",
    "print model_fit.summary()"
   ]
  },
  {
   "cell_type": "code",
   "execution_count": 116,
   "metadata": {
    "collapsed": false
   },
   "outputs": [],
   "source": [
    "x = []\n",
    "per_record = []\n",
    "for record in only_northwestern.liwc:\n",
    "    for c in liwc.categories.values():\n",
    "        per_record.append(record[c])\n",
    "    x.append(per_record)\n",
    "    per_record = []"
   ]
  },
  {
   "cell_type": "code",
   "execution_count": 120,
   "metadata": {
    "collapsed": false
   },
   "outputs": [
    {
     "name": "stdout",
     "output_type": "stream",
     "text": [
      "7479\n"
     ]
    }
   ],
   "source": [
    "Y = scores\n",
    "\n",
    "print len(Y)"
   ]
  },
  {
   "cell_type": "code",
   "execution_count": 122,
   "metadata": {
    "collapsed": false
   },
   "outputs": [
    {
     "name": "stdout",
     "output_type": "stream",
     "text": [
      "Feature ranking:\n",
      "1. feature 18 (0.068718)\n",
      "2. feature 3 (0.033145)\n",
      "3. feature 13 (0.031876)\n",
      "4. feature 54 (0.031708)\n",
      "5. feature 37 (0.029230)\n",
      "6. feature 49 (0.025436)\n",
      "7. feature 20 (0.024404)\n",
      "8. feature 53 (0.024059)\n",
      "9. feature 55 (0.023828)\n",
      "10. feature 10 (0.023783)\n"
     ]
    }
   ],
   "source": [
    "from sklearn.ensemble import RandomForestRegressor\n",
    "\n",
    "forest = RandomForestRegressor(n_estimators=250,\n",
    "                              random_state=0)\n",
    "\n",
    "forest.fit(x, Y)\n",
    "\n",
    "importances = forest.feature_importances_\n",
    "std = np.std([tree.feature_importances_ for tree in forest.estimators_],\n",
    "             axis=0)\n",
    "indices = np.argsort(importances)[::-1]\n",
    "\n",
    "# Print the feature ranking\n",
    "print(\"Feature ranking:\")\n",
    "\n",
    "for f in range(10):\n",
    "    print(\"%d. feature %d (%f)\" % (f + 1, indices[f], importances[indices[f]]))"
   ]
  },
  {
   "cell_type": "code",
   "execution_count": 127,
   "metadata": {
    "collapsed": false
   },
   "outputs": [
    {
     "data": {
      "text/plain": [
       "'time'"
      ]
     },
     "execution_count": 127,
     "metadata": {},
     "output_type": "execute_result"
    }
   ],
   "source": [
    "liwc.categories.values()[10]"
   ]
  },
  {
   "cell_type": "code",
   "execution_count": 1,
   "metadata": {
    "collapsed": false
   },
   "outputs": [
    {
     "ename": "NameError",
     "evalue": "name 'a' is not defined",
     "output_type": "error",
     "traceback": [
      "\u001b[0;31m---------------------------------------------------------------------------\u001b[0m",
      "\u001b[0;31mNameError\u001b[0m                                 Traceback (most recent call last)",
      "\u001b[0;32m<ipython-input-1-9d7b17ad5387>\u001b[0m in \u001b[0;36m<module>\u001b[0;34m()\u001b[0m\n\u001b[0;32m----> 1\u001b[0;31m \u001b[0;32mprint\u001b[0m \u001b[0ma\u001b[0m\u001b[0;34m\u001b[0m\u001b[0m\n\u001b[0m",
      "\u001b[0;31mNameError\u001b[0m: name 'a' is not defined"
     ]
    }
   ],
   "source": []
  },
  {
   "cell_type": "code",
   "execution_count": null,
   "metadata": {
    "collapsed": true
   },
   "outputs": [],
   "source": []
  }
 ],
 "metadata": {
  "kernelspec": {
   "display_name": "Python 2",
   "language": "python",
   "name": "python2"
  },
  "language_info": {
   "codemirror_mode": {
    "name": "ipython",
    "version": 2
   },
   "file_extension": ".py",
   "mimetype": "text/x-python",
   "name": "python",
   "nbconvert_exporter": "python",
   "pygments_lexer": "ipython2",
   "version": "2.7.9"
  }
 },
 "nbformat": 4,
 "nbformat_minor": 0
}
